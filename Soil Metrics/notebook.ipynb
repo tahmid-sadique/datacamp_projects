{
 "cells": [
  {
   "cell_type": "markdown",
   "id": "d3d001b0-2e2f-4b58-8442-99520bad831f",
   "metadata": {},
   "source": [
    "# Sowing Success: How Machine Learning Helps Farmers Select the Best Crops\n",
    "\n",
    "![Farmer in a field](farmer_in_a_field.jpg)\n",
    "\n",
    "Measuring essential soil metrics such as nitrogen, phosphorous, potassium levels, and pH value is an important aspect of assessing soil condition. However, it can be an expensive and time-consuming process, which can cause farmers to prioritize which metrics to measure based on their budget constraints.\n",
    "\n",
    "Farmers have various options when it comes to deciding which crop to plant each season. Their primary objective is to maximize the yield of their crops, taking into account different factors. One crucial factor that affects crop growth is the condition of the soil in the field, which can be assessed by measuring basic elements such as nitrogen and potassium levels. Each crop has an ideal soil condition that ensures optimal growth and maximum yield.\n",
    "\n",
    "A farmer reached out to you as a machine learning expert for assistance in selecting the best crop for his field. They've provided you with a dataset called `soil_measures.csv`, which contains:\n",
    "\n",
    "- `\"N\"`: Nitrogen content ratio in the soil\n",
    "- `\"P\"`: Phosphorous content ratio in the soil\n",
    "- `\"K\"`: Potassium content ratio in the soil\n",
    "- `\"pH\"` value of the soil\n",
    "- `\"crop\"`: categorical values that contain various crops (target variable).\n",
    "\n",
    "Each row in this dataset represents various measures of the soil in a particular field. Based on these measurements, the crop specified in the `\"crop\"` column is the optimal choice for that field.  \n",
    "\n",
    "In this project, you will build multi-class classification models to predict the type of `\"crop\"` and identify the single most importance feature for predictive performance."
   ]
  },
  {
   "cell_type": "code",
   "execution_count": 35,
   "id": "d0eb4f16-5a99-460d-a5ba-706b7ef0bbe7",
   "metadata": {
    "executionCancelledAt": null,
    "executionTime": 4373,
    "id": "bA5ajAmk7XH6",
    "lastExecutedAt": 1750592018962,
    "lastExecutedByKernel": "3c27bea4-9fb8-464b-9904-05a6ac5506f0",
    "lastScheduledRunId": null,
    "lastSuccessfullyExecutedCode": "# All required libraries are imported here for you.\nimport pandas as pd\nfrom sklearn.linear_model import LogisticRegression\nfrom sklearn.model_selection import train_test_split\nfrom sklearn import metrics\n\n# Load the dataset\ncrops = pd.read_csv(\"soil_measures.csv\")\n\n# Write your code here\ncrops_dummies = crops\ncrops_dummies.head(5)\nX = crops_dummies[[\"N\", \"P\", \"K\", \"ph\"]].values\ny = crops_dummies.drop([\"N\", \"P\", \"K\", \"ph\"], axis = 1).values\n\nscore = []\nfor i in range(4):\n    Xi = X[:, i].reshape(-1, 1)\n    X_train, X_test, y_train, y_test = train_test_split(Xi, y, test_size = 0.2, random_state = 9)\n    logreg = LogisticRegression()\n    logreg.fit(X_train, y_train)\n    score.append(logreg.score(X_test, y_test))\n\nmax_score = max(score)\nbest_feature = crops.columns[score.index(max_score)]\nbest_predictive_feature = {best_feature: max(score)}\nprint(best_predictive_feature)",
    "outputsMetadata": {
     "0": {
      "height": 38,
      "type": "stream"
     }
    }
   },
   "outputs": [],
   "source": [
    "#Importing the required libraries\n",
    "import pandas as pd\n",
    "from sklearn.linear_model import LogisticRegression\n",
    "from sklearn.model_selection import train_test_split\n",
    "from sklearn import metrics"
   ]
  },
  {
   "cell_type": "code",
   "execution_count": 36,
   "id": "d2fca910",
   "metadata": {},
   "outputs": [
    {
     "name": "stdout",
     "output_type": "stream",
     "text": [
      "{'K': 0.23863636363636365}\n"
     ]
    }
   ],
   "source": [
    "# Loading the dataset\n",
    "crops = pd.read_csv(\"soil_measures.csv\")\n",
    "\n",
    "# Creating features and targets\n",
    "\n",
    "X = crops[[\"N\", \"P\", \"K\", \"ph\"]].values\n",
    "y = crops.drop([\"N\", \"P\", \"K\", \"ph\"], axis = 1).values.ravel()\n",
    "\n",
    "\n",
    "#Training and testing models\n",
    "\n",
    "score = []\n",
    "\n",
    "for i in range(4):\n",
    "    Xi = X[:, i].reshape(-1, 1)\n",
    "    X_train, X_test, y_train, y_test = train_test_split(Xi, y, test_size = 0.2, random_state = 9)\n",
    "    logreg = LogisticRegression(max_iter = 5000)\n",
    "    logreg.fit(X_train, y_train)\n",
    "    score.append(logreg.score(X_test, y_test))\n",
    "\n",
    "#Finding the best feature\n",
    "\n",
    "max_score = max(score)\n",
    "best_feature = crops.columns[score.index(max_score)]\n",
    "best_predictive_feature = {best_feature: max(score)}\n",
    "print(best_predictive_feature)"
   ]
  }
 ],
 "metadata": {
  "colab": {
   "name": "Welcome to DataCamp Workspaces.ipynb",
   "provenance": []
  },
  "kernelspec": {
   "display_name": "Python 3 (ipykernel)",
   "language": "python",
   "name": "python3"
  },
  "language_info": {
   "codemirror_mode": {
    "name": "ipython",
    "version": 3
   },
   "file_extension": ".py",
   "mimetype": "text/x-python",
   "name": "python",
   "nbconvert_exporter": "python",
   "pygments_lexer": "ipython3",
   "version": "3.10.9"
  }
 },
 "nbformat": 4,
 "nbformat_minor": 5
}
