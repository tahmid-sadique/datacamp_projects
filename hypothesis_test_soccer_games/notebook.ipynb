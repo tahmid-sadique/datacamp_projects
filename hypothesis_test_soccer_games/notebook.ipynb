{
 "cells": [
  {
   "cell_type": "markdown",
   "id": "3ed0edb2-696b-49ab-9db0-681defcce695",
   "metadata": {},
   "source": [
    "![A soccer pitch for an international match.](soccer-pitch.jpg)\n",
    "\n",
    "You're working as a sports journalist at a major online sports media company, specializing in soccer analysis and reporting. You've been watching both men's and women's international soccer matches for a number of years, and your gut instinct tells you that more goals are scored in women's international football matches than men's. This would make an interesting investigative article that your subscribers are bound to love, but you'll need to perform a valid statistical hypothesis test to be sure!\n",
    "\n",
    "While scoping this project, you acknowledge that the sport has changed a lot over the years, and performances likely vary a lot depending on the tournament, so you decide to limit the data used in the analysis to only official `FIFA World Cup` matches (not including qualifiers) since `2002-01-01`.\n",
    "\n",
    "You create two datasets containing the results of every official men's and women's international football match since the 19th century, which you scraped from a reliable online source. This data is stored in two CSV files: `women_results.csv` and `men_results.csv`.\n",
    "\n",
    "The question you are trying to determine the answer to is:\n",
    "\n",
    "> Are more goals scored in women's international soccer matches than men's?\n",
    "\n",
    "You assume a **10% significance level**, and use the following null and alternative hypotheses:\n",
    "\n",
    "$H_0$ : The mean number of goals scored in women's international soccer matches is the same as men's.\n",
    "\n",
    "$H_A$ : The mean number of goals scored in women's international soccer matches is greater than men's."
   ]
  },
  {
   "cell_type": "code",
   "execution_count": 15,
   "id": "84a3c4c8-534b-4d1a-9919-17e05208b2ca",
   "metadata": {
    "executionCancelledAt": null,
    "executionTime": 88,
    "lastExecutedAt": 1750478419968,
    "lastExecutedByKernel": "3a8df6b0-dec9-4a3f-b606-1d24eac3213d",
    "lastScheduledRunId": null,
    "lastSuccessfullyExecutedCode": "# Start your code here!\nimport pandas as pd\nimport numpy as np\nfrom scipy.stats import boxcox\nimport pingouin\nimport seaborn as sns\n\nalpha = 0.1\nwomen = pd.read_csv(\"women_results.csv\", parse_dates = [\"date\"])\nmen = pd.read_csv(\"men_results.csv\", parse_dates = [\"date\"])\nwomen = women[(women[\"date\"]>=\"2002-01-01\") & (women[\"tournament\"]==\"FIFA World Cup\")]\nmen = men[(men[\"date\"]>=\"2002-01-01\") & (men[\"tournament\"]==\"FIFA World Cup\")]\nwomen[\"total_goals\"] = women[\"home_score\"] + women[\"away_score\"]\nmen[\"total_goals\"] = men[\"home_score\"] + men[\"away_score\"]\nmen_avg_goals = men[\"total_goals\"].sum()/len(men)\nwomen_avg_goals = women[\"total_goals\"].sum()/len(women)\n\n\np_val = pingouin.ttest(x = women[\"total_goals\"], y = men[\"total_goals\"], paired = False, alternative = \"greater\")[\"p-val\"].values[0]\nresult_dict = {\"p_val\": p_val, \"result\": result}\nprint(result_dict)\n\np_val = pingouin.mwu(x = women[\"total_goals\"], y = men[\"total_goals\"], alternative = \"greater\")[\"p-val\"].values[0]\nresult_dict = {\"p_val\": p_val, \"result\": result}\nprint(result_dict)",
    "outputsMetadata": {
     "0": {
      "height": 59,
      "type": "stream"
     },
     "1": {
      "height": 50,
      "tableState": {
       "customFilter": {
        "const": {
         "type": "boolean",
         "valid": true,
         "value": true
        },
        "id": "748037f7-b792-4fb7-bc8a-18ca4cbc9e5c",
        "nodeType": "const"
       }
      },
      "type": "dataFrame"
     }
    }
   },
   "outputs": [
    {
     "name": "stdout",
     "output_type": "stream",
     "text": [
      "8.894154401688226e-13 3.8905201759850683e-13\n"
     ]
    }
   ],
   "source": [
    "# Importing the required packages\n",
    "import pandas as pd\n",
    "import numpy as np\n",
    "import pingouin\n",
    "import seaborn as sns\n",
    "from scipy.stats import shapiro\n",
    "\n",
    "# Loading the dataset and filtering for world cup games from 2002\n",
    "women = pd.read_csv(\"women_results.csv\", parse_dates = [\"date\"])\n",
    "men = pd.read_csv(\"men_results.csv\", parse_dates = [\"date\"])\n",
    "women = women[(women[\"date\"]>=\"2002-01-01\") & (women[\"tournament\"]==\"FIFA World Cup\")]\n",
    "men = men[(men[\"date\"]>=\"2002-01-01\") & (men[\"tournament\"]==\"FIFA World Cup\")]\n",
    "\n",
    "# Total goals and average goals\n",
    "women[\"total_goals\"] = women[\"home_score\"] + women[\"away_score\"]\n",
    "men[\"total_goals\"] = men[\"home_score\"] + men[\"away_score\"]\n",
    "men_avg_goals = men[\"total_goals\"].sum()/len(men)\n",
    "women_avg_goals = women[\"total_goals\"].sum()/len(women)\n",
    "\n",
    "# Normality test\n",
    "alpha = 0.1\n",
    "stat1, p1 = shapiro(men[\"total_goals\"])\n",
    "stat1, p2 = shapiro(women[\"total_goals\"])\n",
    "print(p1, p2)\n",
    "# p1<alpha and p2<alpha rejecting the null hypothesis for normality. So non-parametric test needs to be employed."
   ]
  },
  {
   "cell_type": "code",
   "execution_count": 17,
   "id": "fd6ccf7e",
   "metadata": {},
   "outputs": [
    {
     "name": "stdout",
     "output_type": "stream",
     "text": [
      "{'p_val': 0.005106609825443641, 'result': 'reject'}\n"
     ]
    }
   ],
   "source": [
    "# Hypothesis Test (Mann-Whitney U)\n",
    "p_val = pingouin.mwu(x = women[\"total_goals\"], y = men[\"total_goals\"], alternative = \"greater\")[\"p-val\"].values[0]\n",
    "result = \"reject\" if p_val < alpha else \"fail to reject\"\n",
    "result_dict = {\"p_val\": p_val, \"result\": result}\n",
    "print(result_dict)"
   ]
  },
  {
   "cell_type": "code",
   "execution_count": null,
   "id": "7f03f585",
   "metadata": {},
   "outputs": [],
   "source": []
  }
 ],
 "metadata": {
  "colab": {
   "name": "Welcome to DataCamp Workspaces.ipynb",
   "provenance": []
  },
  "kernelspec": {
   "display_name": "Python 3 (ipykernel)",
   "language": "python",
   "name": "python3"
  },
  "language_info": {
   "codemirror_mode": {
    "name": "ipython",
    "version": 3
   },
   "file_extension": ".py",
   "mimetype": "text/x-python",
   "name": "python",
   "nbconvert_exporter": "python",
   "pygments_lexer": "ipython3",
   "version": "3.10.9"
  }
 },
 "nbformat": 4,
 "nbformat_minor": 5
}
