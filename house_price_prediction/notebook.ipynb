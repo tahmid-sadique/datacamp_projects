{
 "cells": [
  {
   "cell_type": "code",
   "execution_count": 1,
   "id": "8026c648",
   "metadata": {},
   "outputs": [],
   "source": [
    "# Importing the required libraries\n",
    "import pandas as pd\n",
    "import numpy as np\n",
    "from sklearn.linear_model import LinearRegression, Ridge, Lasso\n",
    "from sklearn.tree import DecisionTreeRegressor\n",
    "from sklearn.ensemble import RandomForestRegressor\n",
    "from sklearn.model_selection import train_test_split, cross_val_score, KFold, GridSearchCV\n",
    "from sklearn.metrics import mean_squared_error"
   ]
  },
  {
   "cell_type": "code",
   "execution_count": 2,
   "id": "4e2e9a51",
   "metadata": {},
   "outputs": [],
   "source": [
    "# Loading the dataset\n",
    "house_sales = pd.read_csv(\"house_sales.csv\", parse_dates = [\"sale_date\"])\n",
    "\n",
    "# Cleaning and preparing data for training\n",
    "house_sales[\"city\"].replace({\"--\":\"Unknown\"}, inplace = True)\n",
    "dict_type = {\"Det.\": \"Detached\", \"Semi\": \"Semi-detached\", \"Terr.\": \"Terraced\"}\n",
    "house_sales[\"house_type\"].replace(dict_type, inplace = True)\n",
    "mean_months_listed = round(house_sales[\"months_listed\"].mean(),1)\n",
    "house_sales[\"months_listed\"].fillna(mean_months_listed, inplace = True)\n",
    "house_sales[\"area\"] = house_sales[\"area\"].str.replace(' sq.m.', \"\", regex=False).astype(float)\n",
    "house_sales[\"city\"] = house_sales[\"city\"].astype(\"category\")\n",
    "house_sales[\"house_type\"] = house_sales[\"house_type\"].astype(\"category\")\n",
    "house_sales[\"sale_year\"] = house_sales[\"sale_date\"].dt.year\n",
    "house_sales[\"sale_month\"] = house_sales[\"sale_date\"].dt.month\n",
    "house_sales = pd.get_dummies(house_sales)"
   ]
  },
  {
   "cell_type": "code",
   "execution_count": 3,
   "id": "17f18b91",
   "metadata": {},
   "outputs": [],
   "source": [
    "# Selecting features and targets, and splitting data\n",
    "X = house_sales.drop([\"house_id\", \"sale_price\", \"sale_date\", \"months_listed\"], axis = 1)\n",
    "y = house_sales[\"sale_price\"]\n",
    "X_train, X_test, y_train, y_test = train_test_split(X, y, test_size = 0.2, random_state = 1)"
   ]
  },
  {
   "cell_type": "code",
   "execution_count": 4,
   "id": "5bd69c0a",
   "metadata": {},
   "outputs": [],
   "source": [
    "# Model 1: Linear Regression\n",
    "linreg = LinearRegression()\n",
    "linreg.fit(X_train, y_train)\n",
    "linreg_score = linreg.score(X_test, y_test)\n",
    "y_pred1 = linreg.predict(X_test)\n",
    "linreg_rmse = mean_squared_error(y_test, y_pred1, squared = False)\n",
    "s1 = round(linreg_score, 3)\n",
    "r1 = round(linreg_rmse, 1)"
   ]
  },
  {
   "cell_type": "code",
   "execution_count": 5,
   "id": "349ed268",
   "metadata": {},
   "outputs": [
    {
     "name": "stdout",
     "output_type": "stream",
     "text": [
      "{'alpha': 1} 0.964\n"
     ]
    }
   ],
   "source": [
    "# Model 2: Ridge Tuning\n",
    "ridge = Ridge()\n",
    "param_grid = {\"alpha\": [0.001, 0.01, 0.1, 1, 2.5, 5, 10]}\n",
    "kf = KFold(n_splits = 5, shuffle = True, random_state = 1)\n",
    "ridge_cv = GridSearchCV(ridge, param_grid, cv = kf)\n",
    "ridge_cv.fit(X_train, y_train)\n",
    "print(ridge_cv.best_params_, round(ridge_cv.best_score_,3))"
   ]
  },
  {
   "cell_type": "code",
   "execution_count": 6,
   "id": "59cae635",
   "metadata": {},
   "outputs": [],
   "source": [
    "# Model 2: Ridge Score\n",
    "ridge = Ridge(alpha = 1)\n",
    "ridge.fit(X_train, y_train)\n",
    "ridge_score = ridge.score(X_test, y_test)\n",
    "y_pred2 = ridge.predict(X_test)\n",
    "ridge_rmse = mean_squared_error(y_test, y_pred2, squared = False)\n",
    "s2 = round(ridge_score, 3)\n",
    "r2 = round(ridge_rmse, 1)"
   ]
  },
  {
   "cell_type": "code",
   "execution_count": 7,
   "id": "c463a2ee",
   "metadata": {},
   "outputs": [
    {
     "name": "stdout",
     "output_type": "stream",
     "text": [
      "{'alpha': 120} 0.964\n"
     ]
    }
   ],
   "source": [
    "# Model 3: Lasso Tuning\n",
    "lasso = Lasso()\n",
    "param_grid = {\"alpha\": np.arange(10, 1000, 10)}\n",
    "lasso_cv = GridSearchCV(lasso, param_grid, cv = kf)\n",
    "lasso_cv.fit(X_train, y_train)\n",
    "print(lasso_cv.best_params_, round(lasso_cv.best_score_, 3))"
   ]
  },
  {
   "cell_type": "code",
   "execution_count": 8,
   "id": "2264185e",
   "metadata": {},
   "outputs": [],
   "source": [
    "# Model 3: Lasso Score\n",
    "lasso = Lasso(alpha = 120)\n",
    "lasso.fit(X_train, y_train)\n",
    "lasso_score = lasso.score(X_test, y_test)\n",
    "y_pred3 = lasso.predict(X_test)\n",
    "lasso_rmse = mean_squared_error(y_test, y_pred3, squared = False)\n",
    "s3 = round(lasso_score, 3)\n",
    "r3 = round(lasso_rmse, 1)"
   ]
  },
  {
   "cell_type": "code",
   "execution_count": 9,
   "id": "c22f4cd0",
   "metadata": {},
   "outputs": [
    {
     "name": "stdout",
     "output_type": "stream",
     "text": [
      "{'min_samples_leaf': 0.005} 0.979\n"
     ]
    }
   ],
   "source": [
    "# Model 4: Decision Tree Regressor Tuning\n",
    "dt = DecisionTreeRegressor(random_state = 1)\n",
    "param_grid2 = {\"min_samples_leaf\": np.arange(0.005, 0.5, 0.005)}\n",
    "dt_cv = GridSearchCV(dt, param_grid2, cv = kf)\n",
    "dt_cv.fit(X_train, y_train)\n",
    "print(dt_cv.best_params_, round(dt_cv.best_score_, 3))"
   ]
  },
  {
   "cell_type": "code",
   "execution_count": 10,
   "id": "9f64c9a2",
   "metadata": {},
   "outputs": [],
   "source": [
    "# Model 4: Decision Tree Regressor Score\n",
    "dt = DecisionTreeRegressor(min_samples_leaf = 0.005, random_state = 1)\n",
    "dt.fit(X_train, y_train)\n",
    "dt_score = dt.score(X_test, y_test)\n",
    "y_pred4 = dt.predict(X_test)\n",
    "dt_rmse = mean_squared_error(y_test, y_pred4, squared = False)\n",
    "s4 = round(dt_score, 3)\n",
    "r4 = round(dt_rmse, 1)"
   ]
  },
  {
   "cell_type": "code",
   "execution_count": 11,
   "id": "c25a32b7",
   "metadata": {},
   "outputs": [],
   "source": [
    "# Model 5: Random Forest Regressor\n",
    "rf = RandomForestRegressor(n_estimators = 300, random_state = 1)\n",
    "rf.fit(X_train, y_train)\n",
    "rf_score = rf.score(X_test, y_test)\n",
    "y_pred5 = rf.predict(X_test)\n",
    "rf_rmse = mean_squared_error(y_test, y_pred5, squared = False)\n",
    "s5 = round(rf_score,3)\n",
    "r5 = round(rf_rmse, 1)"
   ]
  },
  {
   "cell_type": "code",
   "execution_count": 12,
   "id": "c8cce67a",
   "metadata": {},
   "outputs": [
    {
     "name": "stdout",
     "output_type": "stream",
     "text": [
      "                     model  score     rmse\n",
      "0        Linear Regression  0.958  24923.6\n",
      "1                    Ridge  0.958  24922.1\n",
      "2                    Lasso  0.958  25010.7\n",
      "3  Decision Tree Regressor  0.976  18890.8\n",
      "4  Random Forest Regressor  0.978  18194.1\n"
     ]
    }
   ],
   "source": [
    "# Creating DataFrame of models with their scores\n",
    "model_dict = {\n",
    "    \"model\": [\"Linear Regression\", \"Ridge\", \"Lasso\", \"Decision Tree Regressor\", \"Random Forest Regressor\"],\n",
    "    \"score\": [s1, s2, s3, s4, s5],\n",
    "    \"rmse\": [r1, r2, r3, r4, r5]\n",
    "}\n",
    "model_df = pd.DataFrame(model_dict)\n",
    "print(model_df)"
   ]
  }
 ],
 "metadata": {
  "kernelspec": {
   "display_name": "Python 3 (ipykernel)",
   "language": "python",
   "name": "python3"
  },
  "language_info": {
   "codemirror_mode": {
    "name": "ipython",
    "version": 3
   },
   "file_extension": ".py",
   "mimetype": "text/x-python",
   "name": "python",
   "nbconvert_exporter": "python",
   "pygments_lexer": "ipython3",
   "version": "3.10.9"
  }
 },
 "nbformat": 4,
 "nbformat_minor": 5
}
