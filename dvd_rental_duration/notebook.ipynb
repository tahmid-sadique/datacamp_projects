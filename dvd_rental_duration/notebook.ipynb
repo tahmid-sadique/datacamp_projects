{
 "cells": [
  {
   "cell_type": "markdown",
   "id": "b4ae5707-109f-4cd6-8168-88cac0179d6b",
   "metadata": {},
   "source": [
    "![dvd_image](dvd_image.jpg)\n",
    "\n",
    "A DVD rental company needs your help! They want to figure out how many days a customer will rent a DVD for based on some features and has approached you for help. They want you to try out some regression models which will help predict the number of days a customer will rent a DVD for. The company wants a model which yeilds a MSE of 3 or less on a test set. The model you make will help the company become more efficient inventory planning.\n",
    "\n",
    "The data they provided is in the csv file `rental_info.csv`. It has the following features:\n",
    "- `\"rental_date\"`: The date (and time) the customer rents the DVD.\n",
    "- `\"return_date\"`: The date (and time) the customer returns the DVD.\n",
    "- `\"amount\"`: The amount paid by the customer for renting the DVD.\n",
    "- `\"amount_2\"`: The square of `\"amount\"`.\n",
    "- `\"rental_rate\"`: The rate at which the DVD is rented for.\n",
    "- `\"rental_rate_2\"`: The square of `\"rental_rate\"`.\n",
    "- `\"release_year\"`: The year the movie being rented was released.\n",
    "- `\"length\"`: Lenght of the movie being rented, in minuites.\n",
    "- `\"length_2\"`: The square of `\"length\"`.\n",
    "- `\"replacement_cost\"`: The amount it will cost the company to replace the DVD.\n",
    "- `\"special_features\"`: Any special features, for example trailers/deleted scenes that the DVD also has.\n",
    "- `\"NC-17\"`, `\"PG\"`, `\"PG-13\"`, `\"R\"`: These columns are dummy variables of the rating of the movie. It takes the value 1 if the move is rated as the column name and 0 otherwise. For your convinience, the reference dummy has already been dropped."
   ]
  },
  {
   "cell_type": "code",
   "execution_count": 9,
   "id": "a7ede566-910a-445c-b11a-68d192ac8506",
   "metadata": {
    "executionCancelledAt": null,
    "executionTime": 3223,
    "lastExecutedAt": 1750872636214,
    "lastExecutedByKernel": "d7ccc5a9-9eda-44d0-89dd-8f54af2a04df",
    "lastScheduledRunId": null,
    "lastSuccessfullyExecutedCode": "import pandas as pd\nimport numpy as np\n\nfrom sklearn.model_selection import train_test_split\nfrom sklearn.metrics import mean_squared_error\nfrom sklearn.linear_model import Lasso\n\n# Import any additional modules and start coding below\nrental_df = pd.read_csv(\"rental_info.csv\", parse_dates = [\"rental_date\", \"return_date\"])\n\nrental_df[\"rental_length_days\"] = (rental_df[\"return_date\"]- rental_df[\"rental_date\"]).dt.days\n\nrental_df[\"deleted_scenes\"] = np.where(rental_df[\"special_features\"].str.contains(\"Deleted Scenes\"), 1, 0)\nrental_df[\"behind_the_scenes\"] = np.where(rental_df[\"special_features\"].str.contains(\"Behind the Scenes\"), 1, 0)\n\nX = rental_df.drop([\"rental_date\", \"return_date\", \"special_features\", \"rental_length_days\"], axis = 1)\ny = rental_df[\"rental_length_days\"]\n\nX_train, X_test, y_train, y_test = train_test_split(X, y, test_size = 0.2, random_state = 9)\n\nscores = []\nfor alpha in [0.001, 0.01, 0.1, 1, 10, 20, 50]:\n    lasso = Lasso(alpha = alpha)\n    lasso.fit(X_train, y_train)\n    scores.append(lasso.score(X_test, y_test))\n\nalpha = 0.01\nlasso = Lasso(alpha = alpha)\nlasso.fit(X_train, y_train)\ny_pred = lasso.predict(X_test)\nMSE = mean_squared_error(y_test, y_pred)\nprint(MSE)\n\nbest_model = lasso\nbest_mse = MSE",
    "outputsMetadata": {
     "0": {
      "height": 38,
      "type": "stream"
     }
    }
   },
   "outputs": [
    {
     "name": "stdout",
     "output_type": "stream",
     "text": [
      "{0.001: 0.5856138256624186, 0.01: 0.584446499685334, 0.1: 0.5607287246321488, 1: 0.46395512311674025, 10: 0.2804205154084213, 20: 0.19766488247813552, 50: -5.482979101345542e-05}\n"
     ]
    }
   ],
   "source": [
    "# Importing required packages\n",
    "import pandas as pd\n",
    "import numpy as np\n",
    "from sklearn.model_selection import train_test_split\n",
    "from sklearn.metrics import mean_squared_error\n",
    "from sklearn.linear_model import Lasso\n",
    "import matplotlib.pyplot as plt\n",
    "\n",
    "# Loading dataset\n",
    "rental_df = pd.read_csv(\"rental_info.csv\", parse_dates = [\"rental_date\", \"return_date\"])\n",
    "\n",
    "# Adding new columns\n",
    "rental_df[\"rental_length_days\"] = (rental_df[\"return_date\"]- rental_df[\"rental_date\"]).dt.days\n",
    "rental_df[\"deleted_scenes\"] = np.where(rental_df[\"special_features\"].str.contains(\"Deleted Scenes\"), 1, 0)\n",
    "rental_df[\"behind_the_scenes\"] = np.where(rental_df[\"special_features\"].str.contains(\"Behind the Scenes\"), 1, 0)\n",
    "\n",
    "# Creating features and targets\n",
    "X = rental_df.drop([\"rental_date\", \"return_date\", \"special_features\", \"rental_length_days\"], axis = 1)\n",
    "y = rental_df[\"rental_length_days\"]\n",
    "\n",
    "# Training and testing model\n",
    "scores = []\n",
    "X_train, X_test, y_train, y_test = train_test_split(X, y, test_size = 0.2, random_state = 9)\n",
    "val = [0.001, 0.01, 0.1, 1, 10, 20, 50]\n",
    "for alpha in val:\n",
    "    lasso = Lasso(alpha = alpha)\n",
    "    lasso.fit(X_train, y_train)\n",
    "    scores.append(lasso.score(X_test, y_test))\n",
    "alpha_score = zip(val, scores)\n",
    "print(dict(alpha_score))"
   ]
  },
  {
   "cell_type": "code",
   "execution_count": 11,
   "id": "b418b078",
   "metadata": {},
   "outputs": [
    {
     "name": "stdout",
     "output_type": "stream",
     "text": [
      "2.950251383377225\n"
     ]
    }
   ],
   "source": [
    "# Model fitting and testing\n",
    "alpha = 0.01\n",
    "lasso = Lasso(alpha = alpha)\n",
    "lasso.fit(X_train, y_train)\n",
    "y_pred = lasso.predict(X_test)\n",
    "MSE = mean_squared_error(y_test, y_pred)\n",
    "print(MSE)"
   ]
  }
 ],
 "metadata": {
  "colab": {
   "name": "Welcome to DataCamp Workspaces.ipynb",
   "provenance": []
  },
  "kernelspec": {
   "display_name": "Python 3 (ipykernel)",
   "language": "python",
   "name": "python3"
  },
  "language_info": {
   "codemirror_mode": {
    "name": "ipython",
    "version": 3
   },
   "file_extension": ".py",
   "mimetype": "text/x-python",
   "name": "python",
   "nbconvert_exporter": "python",
   "pygments_lexer": "ipython3",
   "version": "3.10.9"
  }
 },
 "nbformat": 4,
 "nbformat_minor": 5
}
