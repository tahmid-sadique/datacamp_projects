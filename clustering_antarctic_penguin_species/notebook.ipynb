{
 "cells": [
  {
   "cell_type": "markdown",
   "id": "589fe37e-e764-4d71-9c3c-93c8b7acee79",
   "metadata": {},
   "source": [
    "![Alt text](https://imgur.com/orZWHly.png=80)\n",
    "source: @allison_horst https://github.com/allisonhorst/penguins"
   ]
  },
  {
   "cell_type": "markdown",
   "id": "d3fb84f2-0eda-4b73-95c0-5364f83e25bf",
   "metadata": {},
   "source": [
    "You have been asked to support a team of researchers who have been collecting data about penguins in Antartica! The data is available in csv-Format as `penguins.csv`\n",
    "\n",
    "**Origin of this data** : Data were collected and made available by Dr. Kristen Gorman and the Palmer Station, Antarctica LTER, a member of the Long Term Ecological Research Network.\n",
    "\n",
    "**The dataset consists of 5 columns.**\n",
    "\n",
    "Column | Description\n",
    "--- | ---\n",
    "culmen_length_mm | culmen length (mm)\n",
    "culmen_depth_mm | culmen depth (mm)\n",
    "flipper_length_mm | flipper length (mm)\n",
    "body_mass_g | body mass (g)\n",
    "sex | penguin sex\n",
    "\n",
    "Unfortunately, they have not been able to record the species of penguin, but they know that there are **at least three** species that are native to the region: **Adelie**, **Chinstrap**, and **Gentoo**.  Your task is to apply your data science skills to help them identify groups in the dataset!"
   ]
  },
  {
   "cell_type": "code",
   "execution_count": 2,
   "id": "57295d13-5753-4f8d-aa96-cd6815f7cbd9",
   "metadata": {
    "executionCancelledAt": null,
    "executionTime": 363,
    "lastExecutedAt": 1755861217499,
    "lastExecutedByKernel": "7de0023f-d8fb-459f-a420-7d9713930254",
    "lastScheduledRunId": null,
    "lastSuccessfullyExecutedCode": "# Import Required Packages\nimport pandas as pd\nimport matplotlib.pyplot as plt\nfrom sklearn.cluster import KMeans\nfrom sklearn.preprocessing import StandardScaler\n\n# Loading and examining the dataset\npenguins_df = pd.read_csv(\"penguins.csv\")\nsamples = pd.get_dummies(penguins_df)\nscaler = StandardScaler()\nscaler.fit(samples)\nStandardScaler(copy = True, with_mean = True, with_std = True)\nsamples_scaled = scaler.transform(samples)\n\ninertia = []\nclusters = []\nfor i in range(2,11):\n    km = KMeans(n_clusters = i)\n    km.fit(samples_scaled)\n    labels = km.predict(samples_scaled)\n    clusters.append(i)\n    inertia.append(km.inertia_)\n\nplt.plot(clusters, inertia)\n\nkm = KMeans(n_clusters = 6)\nkm.fit(samples_scaled)\nlabels = km.predict(samples_scaled)\n\n\nsamples_n = penguins_df.drop(\"sex\", axis = 1)\nsamples_n[\"labels\"] = labels\nstat_penguins = samples_n.groupby(\"labels\").agg(\"mean\")\n",
    "outputsMetadata": {
     "0": {
      "height": 50,
      "tableState": {
       "customFilter": {
        "const": {
         "type": "boolean",
         "valid": true,
         "value": true
        },
        "id": "90f0c1b6-4dd5-4576-abaf-d92075e30d11",
        "nodeType": "const"
       }
      },
      "type": "dataFrame"
     }
    }
   },
   "outputs": [],
   "source": [
    "# To resolve the memory leak warning on Windows\n",
    "import os\n",
    "os.environ['OMP_NUM_THREADS'] = '1'\n",
    "\n",
    "# Importing required packages\n",
    "import pandas as pd\n",
    "import matplotlib.pyplot as plt\n",
    "from sklearn.cluster import KMeans\n",
    "from sklearn.preprocessing import StandardScaler\n"
   ]
  },
  {
   "cell_type": "code",
   "execution_count": 14,
   "id": "d55df32c",
   "metadata": {},
   "outputs": [
    {
     "data": {
      "image/png": "[encoded data removed]",
      "text/plain": [
       "<Figure size 640x480 with 1 Axes>"
      ]
     },
     "metadata": {},
     "output_type": "display_data"
    }
   ],
   "source": [
    "# Loading dataset and creating dummies\n",
    "\n",
    "penguins_df = pd.read_csv(\"penguins.csv\")\n",
    "samples = pd.get_dummies(penguins_df)\n",
    "\n",
    "# Preprocessing with StandardScaler()\n",
    "scaler = StandardScaler()\n",
    "scaler.fit(samples)\n",
    "samples_scaled = scaler.transform(samples)\n",
    "\n",
    "\n",
    "# Finding inertia for a range of clusters & plotting\n",
    "inertia = []\n",
    "clusters = []\n",
    "for i in range(2,11):\n",
    "    km = KMeans(n_clusters = i, n_init = 'auto') #n_init used to suppress FutureWarning\n",
    "    km.fit(samples_scaled)\n",
    "    labels = km.predict(samples_scaled)\n",
    "    clusters.append(i)\n",
    "    inertia.append(km.inertia_)\n",
    "plt.plot(clusters, inertia)\n"
   ]
  },
  {
   "cell_type": "code",
   "execution_count": 16,
   "id": "6319f1f0",
   "metadata": {},
   "outputs": [
    {
     "name": "stdout",
     "output_type": "stream",
     "text": [
      "        culmen_length_mm  culmen_depth_mm  flipper_length_mm  body_mass_g\n",
      "labels                                                                   \n",
      "0              40.315714        19.011429         192.242857  4034.642857\n",
      "1              45.563793        14.237931         212.706897  4679.741379\n",
      "2              51.268966        16.093103         226.000000  5650.000000\n",
      "3              40.217757        17.611215         189.046729  3419.158879\n",
      "4              47.846875        15.378125         217.500000  5335.156250\n",
      "5              50.805556        19.305556         199.666667  3952.083333\n"
     ]
    }
   ],
   "source": [
    "#Fitting and predicting labels\n",
    "km = KMeans(n_clusters = 6, n_init = 'auto')\n",
    "km.fit(samples_scaled)\n",
    "labels = km.predict(samples_scaled)\n",
    "\n",
    "#Finding the mean of characteristics grouped by penguin labels\n",
    "samples_n = penguins_df.drop(\"sex\", axis = 1)\n",
    "samples_n[\"labels\"] = labels\n",
    "stat_penguins = samples_n.groupby(\"labels\").agg(\"mean\")\n",
    "print(stat_penguins)"
   ]
  },
  {
   "cell_type": "code",
   "execution_count": null,
   "id": "8345d228",
   "metadata": {},
   "outputs": [],
   "source": []
  }
 ],
 "metadata": {
  "colab": {
   "name": "Welcome to DataCamp Workspaces.ipynb",
   "provenance": []
  },
  "editor": "DataLab",
  "kernelspec": {
   "display_name": "Python 3 (ipykernel)",
   "language": "python",
   "name": "python3"
  },
  "language_info": {
   "codemirror_mode": {
    "name": "ipython",
    "version": 3
   },
   "file_extension": ".py",
   "mimetype": "text/x-python",
   "name": "python",
   "nbconvert_exporter": "python",
   "pygments_lexer": "ipython3",
   "version": "3.10.9"
  }
 },
 "nbformat": 4,
 "nbformat_minor": 5
}
